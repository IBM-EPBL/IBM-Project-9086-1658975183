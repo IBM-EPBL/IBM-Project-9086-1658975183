{
  "metadata": {
    "colab": {
      "provenance": []
    },
    "kernelspec": {
      "name": "python",
      "display_name": "Python (Pyodide)",
      "language": "python"
    },
    "language_info": {
      "codemirror_mode": {
        "name": "python",
        "version": 3
      },
      "file_extension": ".py",
      "mimetype": "text/x-python",
      "name": "python",
      "nbconvert_exporter": "python",
      "pygments_lexer": "ipython3",
      "version": "3.8"
    }
  },
  "nbformat_minor": 4,
  "nbformat": 4,
  "cells": [
    {
      "cell_type": "markdown",
      "source": "## Exercises\n\nAnswer the questions or complete the tasks outlined in bold below, use the specific method described if applicable.",
      "metadata": {
        "id": "fwU2iooz85jt"
      }
    },
    {
      "cell_type": "markdown",
      "source": "** What is 7 to the power of 4?**",
      "metadata": {
        "id": "SzBQQ_ml85j1"
      }
    },
    {
      "cell_type": "code",
      "source": "print(7**4)",
      "metadata": {
        "id": "UhvE4PBC85j3",
        "outputId": "a05565aa-db43-4716-e87d-41c5c8a6f95e"
      },
      "execution_count": 4,
      "outputs": [
        {
          "name": "stdout",
          "output_type": "stream",
          "text": "2401\n"
        }
      ]
    },
    {
      "cell_type": "markdown",
      "source": "** Split this string:**\n\n    s = \"Hi there Sam!\"\n    \n**into a list. **",
      "metadata": {
        "id": "ds8G9S8j85j6"
      }
    },
    {
      "cell_type": "code",
      "source": "string = \"Hi there Sam!\"\nprint(string.split())",
      "metadata": {
        "id": "GD_Tls3H85j7"
      },
      "execution_count": 5,
      "outputs": [
        {
          "name": "stdout",
          "output_type": "stream",
          "text": "['Hi', 'there', 'Sam!']\n"
        }
      ]
    },
    {
      "cell_type": "code",
      "source": "string = \"Hi there dad!\"\nprint(string.split())",
      "metadata": {
        "id": "RRGOKoai85j8",
        "outputId": "cc52f0d8-2ed1-4b4d-e956-5bbeb332cdc2"
      },
      "execution_count": 6,
      "outputs": [
        {
          "name": "stdout",
          "output_type": "stream",
          "text": "['Hi', 'there', 'dad!']\n"
        }
      ]
    },
    {
      "cell_type": "markdown",
      "source": "** Given the variables:**\n\n    planet = \"Earth\"\n    diameter = 12742\n\n** Use .format() to print the following string: **\n\n    The diameter of Earth is 12742 kilometers.",
      "metadata": {
        "id": "_bBNOu-785j9"
      }
    },
    {
      "cell_type": "code",
      "source": "planet = \"Earth\"\ndiameter = 12742\n\nprint(\"The diameter of {} is {} kilometers.\".format(planet, diameter))",
      "metadata": {
        "id": "2TrzmDcS85j-"
      },
      "execution_count": 7,
      "outputs": [
        {
          "name": "stdout",
          "output_type": "stream",
          "text": "The diameter of Earth is 12742 kilometers.\n"
        }
      ]
    },
    {
      "cell_type": "code",
      "source": "print(f\"The diameter of {planet} is {diameter} kilometers.\")",
      "metadata": {
        "id": "s_dQ7_xc85j_",
        "outputId": "4235fdfb-5591-4dd9-f9d2-77f311977633"
      },
      "execution_count": 9,
      "outputs": [
        {
          "name": "stdout",
          "output_type": "stream",
          "text": "The diameter of Earth is 12742 kilometers.\n"
        }
      ]
    },
    {
      "cell_type": "markdown",
      "source": "** Given this nested list, use indexing to grab the word \"hello\" **",
      "metadata": {
        "id": "QAKtN7Hh85kB"
      }
    },
    {
      "cell_type": "code",
      "source": "lst = [1,2,[3,4],[5,[100,200,['hello']],23,11],1,7]",
      "metadata": {
        "collapsed": true,
        "id": "-7dzQDyK85kD",
        "jupyter": {
          "outputs_hidden": true
        }
      },
      "execution_count": null,
      "outputs": []
    },
    {
      "cell_type": "code",
      "source": "lst = [1,2,[3,4],[5,[100,200,['hello']],23,11],1,7]\nprint(lst[3][1][2][0])",
      "metadata": {
        "id": "6m5C0sTW85kE",
        "outputId": "c3417d1c-3081-4e24-8489-154cdce1b06b"
      },
      "execution_count": 11,
      "outputs": [
        {
          "name": "stdout",
          "output_type": "stream",
          "text": "hello\n"
        }
      ]
    },
    {
      "cell_type": "markdown",
      "source": "** Given this nest dictionary grab the word \"hello\". Be prepared, this will be annoying/tricky **",
      "metadata": {
        "id": "9Ma7M4a185kF"
      }
    },
    {
      "cell_type": "code",
      "source": "d = {'k1':[1,2,3,{'tricky':['oh','man','inception',{'target':[1,2,3,'hello']}]}]}",
      "metadata": {
        "id": "vrYAxSYN85kG"
      },
      "execution_count": null,
      "outputs": []
    },
    {
      "cell_type": "code",
      "source": "d = {'k1':[1,2,3,{'tricky':['oh','man','inception',{'target':[1,2,3,'hello']}]}]}\nprint(d['k1'][3][\"tricky\"][3]['target'][3])",
      "metadata": {
        "id": "FlILSdm485kH",
        "outputId": "4232540d-95c2-461d-c78d-24ea62398e08"
      },
      "execution_count": 13,
      "outputs": [
        {
          "name": "stdout",
          "output_type": "stream",
          "text": "hello\n"
        }
      ]
    },
    {
      "cell_type": "markdown",
      "source": "** What is the main difference between a tuple and a list? **",
      "metadata": {
        "id": "FInV_FKB85kI"
      }
    },
    {
      "cell_type": "code",
      "source": "print(\"tuple is immutable and list is mutable\")",
      "metadata": {
        "id": "_VBWf00q85kJ"
      },
      "execution_count": 14,
      "outputs": [
        {
          "name": "stdout",
          "output_type": "stream",
          "text": "tuple is immutable and list is mutable\n"
        }
      ]
    },
    {
      "cell_type": "markdown",
      "source": "** Create a function that grabs the email website domain from a string in the form: **\n\n    user@domain.com\n    \n**So for example, passing \"user@domain.com\" would return: domain.com**",
      "metadata": {
        "id": "zP-j0HZj85kK"
      }
    },
    {
      "cell_type": "code",
      "source": "def domainGet(email):\n    print(\"Your domain is: \" + email.split('@')[-1])\n\nemail = input(\"Please enter your email: \")\ndomainGet(email)",
      "metadata": {
        "id": "unvEAwjk85kL"
      },
      "execution_count": 15,
      "outputs": [
        {
          "name": "stdout",
          "output_type": "stream",
          "text": "Please enter your email: user@domain.com\n\nYour domain is: domain.com\n"
        }
      ]
    },
    {
      "cell_type": "code",
      "source": "def domainGet(email):\n    print(\"Your domain is: \" + email.split('@')[-1])\n\nemail = input(\"Please enter your email: >\")\ndomainGet(email)",
      "metadata": {
        "id": "Gb9dspLC85kL",
        "outputId": "4216116b-da08-45a2-9545-d6b13bcefaeb"
      },
      "execution_count": 16,
      "outputs": [
        {
          "name": "stdout",
          "output_type": "stream",
          "text": "Please enter your email: >user@domain.com\n\nYour domain is: domain.com\n"
        }
      ]
    },
    {
      "cell_type": "markdown",
      "source": "** Create a basic function that returns True if the word 'dog' is contained in the input string. Don't worry about edge cases like a punctuation being attached to the word dog, but do account for capitalization. **",
      "metadata": {
        "id": "gYydb-y085kM"
      }
    },
    {
      "cell_type": "code",
      "source": "def findDog(st):\n    if 'dog' in st.lower():\n        print(\"True\")\n    else:\n        print(\"False\")\n\nst = input(\"Please key a string: >\")\nfindDog(st)",
      "metadata": {
        "id": "Q4ldLGV785kM"
      },
      "execution_count": 21,
      "outputs": [
        {
          "name": "stdout",
          "output_type": "stream",
          "text": "Please key a string: >my dog\n\nTrue\n"
        }
      ]
    },
    {
      "cell_type": "code",
      "source": "",
      "metadata": {
        "id": "EqH6b7yv85kN",
        "outputId": "e7909af1-8df1-4534-fc8c-27b03d7369e5"
      },
      "execution_count": 19,
      "outputs": []
    },
    {
      "cell_type": "markdown",
      "source": "** Create a function that counts the number of times the word \"dog\" occurs in a string. Again ignore edge cases. **",
      "metadata": {
        "id": "AyHQFALC85kO"
      }
    },
    {
      "cell_type": "code",
      "source": "string = input(\"Please enter your string: \")\n\ndef countdogs(string):\n    count = 0\n    for word in string.lower().split():\n        if word == 'dog' or word == 'dogs':\n            count = count + 1\n            print(count)\n\ncountdogs(string)",
      "metadata": {
        "id": "6hdc169585kO"
      },
      "execution_count": 22,
      "outputs": [
        {
          "name": "stdout",
          "output_type": "stream",
          "text": "Please enter your string: My dog and my friend's dog are friends.\n\n1\n\n2\n"
        }
      ]
    },
    {
      "cell_type": "code",
      "source": "string = input(\"Please enter your string: \")\n\ndef countdogs(string):\n    count = 0\n    for word in string.lower().split():\n        if word == 'dog' or word == 'dogs':\n            count = count + 1\n            print(count)\n\ncountdogs(string)",
      "metadata": {
        "id": "igzsvHb385kO",
        "outputId": "0602a2b5-0b18-48d8-e2d4-fe644cbccf8a"
      },
      "execution_count": 23,
      "outputs": [
        {
          "name": "stdout",
          "output_type": "stream",
          "text": "Please enter your string: My dog and my friend's dog are friends.\n\n1\n\n2\n"
        }
      ]
    },
    {
      "cell_type": "markdown",
      "source": "### Problem\n**You are driving a little too fast, and a police officer stops you. Write a function\n  to return one of 3 possible results: \"No ticket\", \"Small ticket\", or \"Big Ticket\". \n  If your speed is 60 or less, the result is \"No Ticket\". If speed is between 61 \n  and 80 inclusive, the result is \"Small Ticket\". If speed is 81 or more, the result is \"Big    Ticket\". Unless it is your birthday (encoded as a boolean value in the parameters of the function) -- on your birthday, your speed can be 5 higher in all \n  cases. **",
      "metadata": {
        "id": "3n7jJt4k85kP"
      }
    },
    {
      "cell_type": "code",
      "source": "def caught_speeding(speed, is_birthday):\n    \n    if is_birthday:\n        speeding = speed - 5\n    else:\n        speeding = speed\n    \n    if speeding > 80:\n        return 'Big Ticket'\n    elif speeding > 60:\n        return 'Small Ticket'\n    else:\n        return 'No Ticket'",
      "metadata": {
        "collapsed": true,
        "id": "nvXMkvWk85kQ",
        "jupyter": {
          "outputs_hidden": true
        }
      },
      "execution_count": null,
      "outputs": []
    },
    {
      "cell_type": "code",
      "source": "print(\"Please enter the speed(km/h)(only number please): \\n\")\nspeed = int(input(\"> \"))\n\nprint(\"Please enter your birthday: (in DD/MM/YYYY format)\\n\")\nbirthday = str(input(\"> \"))\n\ndef speeding(speed, birthday):\n    if birthday == '29/08/1989':\n        s = speed - 5\n    else:\n        s = speed\n\n    if s <= 60:\n        print(\"You pass.\")\n    elif s > 61 and s <= 80:\n        print(\"Small Ticket\")\n    else:\n        print(\"Big Ticket.\")\n\nspeeding(speed, birthday)",
      "metadata": {
        "id": "BU_UZcyk85kS",
        "outputId": "699de8ef-a18c-436b-fdd9-60dc44979906"
      },
      "execution_count": 24,
      "outputs": [
        {
          "name": "stdout",
          "output_type": "stream",
          "text": "Please enter the speed(km/h)(only number please): \n\n\n\n> 90\n\nPlease enter your birthday: (in DD/MM/YYYY format)\n\n\n\n> 15/03/2002\n\nBig Ticket.\n"
        }
      ]
    },
    {
      "cell_type": "code",
      "source": "print(\"Please enter the speed(km/h)(only number please): \\n\")\nspeed = int(input(\"> \"))\n\nprint(\"Please enter your birthday: (in DD/MM/YYYY format)\\n\")\nbirthday = str(input(\"> \"))\n\ndef speeding(speed, birthday):\n    if birthday == '29/08/1989':\n        s = speed - 5\n    else:\n        s = speed\n\n    if s <= 60:\n        print(\"You pass.\")\n    elif s > 61 and s <= 80:\n        print(\"Small Ticket\")\n    else:\n        print(\"Big Ticket.\")\n\nspeeding(speed, birthday)",
      "metadata": {
        "id": "p1AGJ7DM85kR",
        "outputId": "ca80629f-5949-4926-8d27-1b61576669ac"
      },
      "execution_count": 26,
      "outputs": [
        {
          "name": "stdout",
          "output_type": "stream",
          "text": "Please enter the speed(km/h)(only number please): \n\n\n\n> 65\n\nPlease enter your birthday: (in DD/MM/YYYY format)\n\n\n\n> 15/03/2002\n\nSmall Ticket\n"
        }
      ]
    },
    {
      "cell_type": "markdown",
      "source": "Create an employee list with basic salary values(at least 5 values for 5 employees)  and using a for loop retreive each employee salary and calculate total salary expenditure. ",
      "metadata": {
        "id": "Tie4rC7_kAOC"
      }
    },
    {
      "cell_type": "code",
      "source": "import pandas as pd\nlists = [['N1', 22000], ['N2', 25000], ['N3', 24000]]\ndf=pd.DataFrame(lists, columns =['empname','basic salary'])\nprint(df)\n\nemployee=[22000, 25000, 24000]\ntotal_salary=0\nfor i in employee:\n  total_salary+=i\nprint(\"\\n\",total_salary)",
      "metadata": {
        "id": "R5-CdXSKjacN",
        "trusted": true
      },
      "execution_count": 2,
      "outputs": [
        {
          "name": "stdout",
          "text": "  empname  basic salary\n0      N1         22000\n1      N2         25000\n2      N3         24000\n\n 71000\n",
          "output_type": "stream"
        }
      ]
    },
    {
      "cell_type": "markdown",
      "source": "Create two dictionaries in Python:\n\nFirst one to contain fields as Empid,  Empname,  Basicpay\n\nSecond dictionary to contain fields as DeptName,  DeptId.\n\nCombine both dictionaries. ",
      "metadata": {
        "id": "-L1aiFqRkF5s"
      }
    },
    {
      "cell_type": "code",
      "source": "dict_1={\"Empid\":\"2040\",\"Empname\":\"Name1\",\"Basicpay\":20000}\ndict_2={\"DeptName\":\"Marketing\",\"DeptId\":\"01\"}\n\ndict_3={**dict_1, **dict_2}\n\nprint(dict_3)",
      "metadata": {
        "id": "8ugVoEe0kOsk",
        "trusted": true
      },
      "execution_count": 1,
      "outputs": [
        {
          "name": "stdout",
          "text": "{'Empid': '2040', 'Empname': 'Name1', 'Basicpay': 20000, 'DeptName': 'Marketing', 'DeptId': '01'}\n",
          "output_type": "stream"
        }
      ]
    },
    {
      "cell_type": "code",
      "source": "",
      "metadata": {},
      "execution_count": null,
      "outputs": []
    }
  ]
}